{
 "cells": [
  {
   "cell_type": "markdown",
   "metadata": {},
   "source": [
    "# WeatherPy\n",
    "----\n",
    "\n",
    "#### Note\n",
    "* Instructions have been included for each segment. You do not have to follow them exactly, but they are included to help you think through the steps."
   ]
  },
  {
   "cell_type": "code",
   "execution_count": 2,
   "metadata": {
    "scrolled": true
   },
   "outputs": [
    {
     "data": {
      "text/plain": [
       "'output_data/cities.csv'"
      ]
     },
     "execution_count": 2,
     "metadata": {},
     "output_type": "execute_result"
    }
   ],
   "source": [
    "# Dependencies and Setup\n",
    "import matplotlib.pyplot as plt\n",
    "import pandas as pd\n",
    "import numpy as np\n",
    "import requests\n",
    "import time\n",
    "from scipy.stats import linregress\n",
    "import json\n",
    "\n",
    "\n",
    "# Import API key\n",
    "from api_keys import weather_api_key\n",
    "\n",
    "# Incorporated citipy to determine city based on latitude and longitude\n",
    "from citipy import citipy\n",
    "\n",
    "# Output File (CSV)\n",
    "output_data_file = \"output_data/cities.csv\"\n",
    "\n",
    "# Range of latitudes and longitudes\n",
    "lat_range = (-90, 90)\n",
    "lng_range = (-180, 180)  \n",
    "\n",
    "output_data_file\n"
   ]
  },
  {
   "cell_type": "markdown",
   "metadata": {},
   "source": [
    "## Generate Cities List"
   ]
  },
  {
   "cell_type": "code",
   "execution_count": 3,
   "metadata": {},
   "outputs": [
    {
     "data": {
      "text/plain": [
       "593"
      ]
     },
     "execution_count": 3,
     "metadata": {},
     "output_type": "execute_result"
    }
   ],
   "source": [
    "# List for holding lat_lngs and cities\n",
    "lat_lngs = []\n",
    "cities = []\n",
    "\n",
    "# Create a set of random lat and lng combinations\n",
    "lats = np.random.uniform(lat_range[0], lat_range[1], size=1500)\n",
    "lngs = np.random.uniform(lng_range[0], lng_range[1], size=1500)\n",
    "lat_lngs = zip(lats, lngs)\n",
    "\n",
    "# Identify nearest city for each lat, lng combination\n",
    "for lat_lng in lat_lngs:\n",
    "    city = citipy.nearest_city(lat_lng[0], lat_lng[1]).city_name\n",
    "    \n",
    "    # If the city is unique, then add it to a our cities list\n",
    "    if city not in cities:\n",
    "        cities.append(city)\n",
    "\n",
    "# Print the city count to confirm sufficient count\n",
    "len(cities)\n"
   ]
  },
  {
   "cell_type": "markdown",
   "metadata": {},
   "source": [
    "### Perform API Calls\n",
    "* Perform a weather check on each city using a series of successive API calls.\n",
    "* Include a print log of each city as it'sbeing processed (with the city number and city name).\n"
   ]
  },
  {
   "cell_type": "code",
   "execution_count": 4,
   "metadata": {
    "scrolled": true
   },
   "outputs": [
    {
     "name": "stdout",
     "output_type": "stream",
     "text": [
      "http://api.openweathermap.org/data/2.5/weather?appid=6d987dcb0699091a9eee0d01a310631b&units=imperial&q=\n"
     ]
    }
   ],
   "source": [
    "url = \"http://api.openweathermap.org/data/2.5/weather?\"\n",
    "# weather_url\n",
    "units = \"imperial\" \n",
    "\n",
    "\n",
    "#get from doc &q\n",
    "# query_url = f\"(url+ appid =(weather_api_key)&units=(unit)&q=\"\n",
    "# query_url\n",
    "\n",
    "query_url = f\"{url}appid={weather_api_key}&units={units}&q=\"\n",
    "\n",
    "print(query_url)\n"
   ]
  },
  {
   "cell_type": "code",
   "execution_count": 5,
   "metadata": {},
   "outputs": [],
   "source": [
    "\n",
    "# city_response = requests.get(query_url + city)\n",
    "# city_json = city_response.json()\n",
    "# city_json = requests.get(query_url + \"&q=\" + city).json()\n",
    "\n",
    "# city_json = city_response.json()\n",
    "# print(city_json)\n"
   ]
  },
  {
   "cell_type": "code",
   "execution_count": 6,
   "metadata": {},
   "outputs": [
    {
     "name": "stdout",
     "output_type": "stream",
     "text": [
      " Processing... 1 | mar del plata\n",
      " Processing... 2 | albany\n",
      " Processing... 3 | thinadhoo\n",
      " Processing... 4 | hasaki\n",
      " Processing... 5 | mataura\n",
      " Processing... 6 | bengkulu\n",
      " Processing... 7 | karratha\n",
      " Processing... 8 | broken hill\n",
      " Processing... 9 | evensk\n",
      " Processing... 10 | gamba\n",
      " Processing... 11 | castro\n",
      " Processing... 12 | rikitea\n",
      " Processing... 13 | chernyshevskiy\n",
      " Processing... 14 | tazovskiy\n",
      " Processing... 15 | nikolskoye\n",
      " Incomplete Info ... Next Record.\n",
      " Processing... 17 | pisco\n",
      " Processing... 18 | iqaluit\n",
      " Processing... 19 | port alfred\n",
      " Processing... 20 | dalbandin\n",
      " Processing... 21 | klaksvik\n",
      " Incomplete Info ... Next Record.\n",
      " Processing... 23 | aksarka\n",
      " Processing... 24 | palembang\n",
      " Processing... 25 | jamestown\n",
      " Processing... 26 | ampanihy\n",
      " Processing... 27 | carnarvon\n",
      " Processing... 28 | wiarton\n",
      " Processing... 29 | barrow\n",
      " Processing... 30 | new norfolk\n",
      " Processing... 31 | cidreira\n",
      " Processing... 32 | bambous virieux\n",
      " Processing... 33 | guerrero negro\n",
      " Incomplete Info ... Next Record.\n",
      " Processing... 35 | zachepylivka\n",
      " Processing... 36 | fukue\n",
      " Processing... 37 | hobart\n",
      " Processing... 38 | tuatapere\n",
      " Processing... 39 | khatanga\n",
      " Incomplete Info ... Next Record.\n",
      " Incomplete Info ... Next Record.\n",
      " Processing... 42 | faanui\n",
      " Processing... 43 | busselton\n",
      " Processing... 44 | victoria\n",
      " Processing... 45 | micco\n",
      " Incomplete Info ... Next Record.\n",
      " Incomplete Info ... Next Record.\n",
      " Processing... 48 | severo-kurilsk\n",
      " Processing... 49 | geraldton\n",
      " Incomplete Info ... Next Record.\n",
      " Incomplete Info ... Next Record.\n",
      " Processing... 52 | riviere-du-loup\n",
      " Processing... 53 | turukhansk\n",
      " Processing... 54 | salinopolis\n",
      " Processing... 55 | yatou\n",
      " Processing... 56 | sawakin\n",
      " Processing... 57 | lebu\n",
      " Processing... 58 | ugoofaaru\n",
      " Processing... 59 | wattegama\n",
      " Processing... 60 | kyaukse\n",
      " Processing... 61 | hilo\n",
      " Processing... 62 | atuona\n",
      " Processing... 63 | ribeira grande\n",
      " Processing... 64 | nanortalik\n",
      " Processing... 65 | zhigalovo\n",
      " Processing... 66 | nome\n",
      " Processing... 67 | hofn\n",
      " Processing... 68 | faya\n",
      " Processing... 69 | vardo\n",
      " Processing... 70 | east london\n",
      " Processing... 71 | flinders\n",
      " Processing... 72 | denizli\n",
      " Processing... 73 | san quintin\n",
      " Processing... 74 | port blair\n",
      " Processing... 75 | kaitangata\n",
      " Processing... 76 | carutapera\n",
      " Processing... 77 | qaanaaq\n",
      " Processing... 78 | ushuaia\n",
      " Processing... 79 | yellowknife\n",
      " Processing... 80 | emerald\n",
      " Processing... 81 | bluff\n",
      " Processing... 82 | palizada\n",
      " Processing... 83 | sao joao da barra\n",
      " Processing... 84 | taltal\n",
      " Processing... 85 | upernavik\n",
      " Processing... 86 | bredasdorp\n",
      " Processing... 87 | buala\n",
      " Processing... 88 | chokurdakh\n",
      " Processing... 89 | karoi\n",
      " Processing... 90 | saposoa\n",
      " Processing... 91 | chuy\n",
      " Processing... 92 | tuktoyaktuk\n",
      " Processing... 93 | scarborough\n",
      " Incomplete Info ... Next Record.\n",
      " Incomplete Info ... Next Record.\n",
      " Processing... 96 | santa cruz\n",
      " Processing... 97 | paamiut\n",
      " Processing... 98 | shingu\n",
      " Processing... 99 | provideniya\n",
      " Incomplete Info ... Next Record.\n",
      " Processing... 101 | pevek\n",
      " Processing... 102 | codrington\n",
      " Processing... 103 | cherskiy\n",
      " Processing... 104 | kapaa\n",
      " Processing... 105 | male\n",
      " Incomplete Info ... Next Record.\n",
      " Processing... 107 | gondar\n",
      " Processing... 108 | montefiascone\n",
      " Processing... 109 | adrar\n",
      " Processing... 110 | pravda\n",
      " Processing... 111 | boysun\n",
      " Processing... 112 | saint-pierre\n",
      " Processing... 113 | rawson\n",
      " Processing... 114 | punta arenas\n",
      " Incomplete Info ... Next Record.\n",
      " Incomplete Info ... Next Record.\n",
      " Processing... 117 | ovalle\n",
      " Processing... 118 | kruisfontein\n",
      " Processing... 119 | hithadhoo\n",
      " Processing... 120 | nizwa\n",
      " Processing... 121 | asau\n",
      " Processing... 122 | cedar city\n",
      " Processing... 123 | parrita\n",
      " Processing... 124 | kenai\n",
      " Processing... 125 | vaini\n",
      " Processing... 126 | ndele\n",
      " Processing... 127 | riyadh\n",
      " Incomplete Info ... Next Record.\n",
      " Processing... 129 | saint-philippe\n",
      " Processing... 130 | mwene-ditu\n",
      " Processing... 131 | ayolas\n",
      " Processing... 132 | puerto ayora\n",
      " Incomplete Info ... Next Record.\n",
      " Processing... 134 | tasiilaq\n",
      " Processing... 135 | arraial do cabo\n",
      " Processing... 136 | puerto del rosario\n",
      " Processing... 137 | cape town\n",
      " Processing... 138 | port elizabeth\n",
      " Processing... 139 | butaritari\n",
      " Incomplete Info ... Next Record.\n",
      " Processing... 141 | nioro\n",
      " Processing... 142 | chupa\n",
      " Processing... 143 | nouadhibou\n",
      " Processing... 144 | san patricio\n",
      " Processing... 145 | tome\n",
      " Processing... 146 | tambacounda\n",
      " Processing... 147 | saldanha\n",
      " Processing... 148 | richards bay\n",
      " Processing... 149 | dunedin\n",
      " Processing... 150 | laurinburg\n",
      " Processing... 151 | aklavik\n",
      " Processing... 152 | moerai\n",
      " Processing... 153 | birjand\n",
      " Processing... 154 | ginir\n",
      " Incomplete Info ... Next Record.\n",
      " Processing... 156 | georgetown\n",
      " Processing... 157 | tiarei\n",
      " Processing... 158 | chateaudun\n",
      " Processing... 159 | bulawayo\n",
      " Processing... 160 | villa corzo\n",
      " Processing... 161 | fortuna\n",
      " Incomplete Info ... Next Record.\n",
      " Processing... 163 | araouane\n",
      " Processing... 164 | mount gambier\n",
      " Processing... 165 | nyurba\n",
      " Processing... 166 | souillac\n",
      " Processing... 167 | aguimes\n",
      " Processing... 168 | marawi\n",
      " Processing... 169 | caravelas\n",
      " Processing... 170 | asfi\n",
      " Processing... 171 | hermanus\n",
      " Processing... 172 | visnes\n",
      " Processing... 173 | talnakh\n",
      " Processing... 174 | saskylakh\n",
      " Processing... 175 | sorland\n",
      " Processing... 176 | iralaya\n",
      " Processing... 177 | palana\n",
      " Processing... 178 | saint-nazaire\n",
      " Processing... 179 | arica\n",
      " Processing... 180 | stornoway\n",
      " Processing... 181 | teya\n",
      " Incomplete Info ... Next Record.\n",
      " Processing... 183 | netarhat\n",
      " Processing... 184 | antofagasta\n",
      " Processing... 185 | grand gaube\n",
      " Processing... 186 | king city\n",
      " Processing... 187 | kon tum\n",
      " Processing... 188 | olenino\n",
      " Incomplete Info ... Next Record.\n",
      " Processing... 190 | thompson\n",
      " Processing... 191 | solnechnyy\n",
      " Processing... 192 | sechura\n",
      " Processing... 193 | sioux lookout\n",
      " Processing... 194 | mount isa\n",
      " Processing... 195 | nobeoka\n",
      " Processing... 196 | hirara\n",
      " Processing... 197 | leshukonskoye\n",
      " Processing... 198 | lubumbashi\n",
      " Processing... 199 | seoul\n",
      " Processing... 200 | avera\n",
      " Processing... 201 | ahipara\n",
      " Processing... 202 | vestmannaeyjar\n",
      " Processing... 203 | batemans bay\n",
      " Processing... 204 | cabo san lucas\n",
      " Processing... 205 | namatanai\n",
      " Processing... 206 | ponta do sol\n",
      " Incomplete Info ... Next Record.\n",
      " Processing... 208 | yen bai\n",
      " Processing... 209 | coromandel\n",
      " Processing... 210 | comodoro rivadavia\n",
      " Processing... 211 | calmar\n",
      " Processing... 212 | augusto correa\n",
      " Processing... 213 | akureyri\n",
      " Processing... 214 | alofi\n",
      " Processing... 215 | waingapu\n",
      " Processing... 216 | berlevag\n",
      " Processing... 217 | kodiak\n",
      " Processing... 218 | san luis rio colorado\n",
      " Processing... 219 | shubarshi\n",
      " Processing... 220 | vila franca do campo\n",
      " Processing... 221 | gornoye loo\n",
      " Processing... 222 | maturin\n",
      " Processing... 223 | touros\n",
      " Processing... 224 | ouallam\n",
      " Processing... 225 | beringovskiy\n",
      " Processing... 226 | hamilton\n",
      " Processing... 227 | jaguey grande\n",
      " Processing... 228 | arman\n",
      " Processing... 229 | tarragona\n",
      " Processing... 230 | mareeba\n",
      " Processing... 231 | namibe\n",
      " Processing... 232 | kuznetsk\n",
      " Processing... 233 | witu\n",
      " Processing... 234 | avarua\n",
      " Processing... 235 | tamugan\n",
      " Processing... 236 | los llanos de aridane\n",
      " Processing... 237 | leningradskiy\n",
      " Processing... 238 | villa juarez\n",
      " Processing... 239 | nosy varika\n",
      " Processing... 240 | vanimo\n",
      " Processing... 241 | airai\n",
      " Processing... 242 | lompoc\n",
      " Processing... 243 | kampot\n",
      " Processing... 244 | usinsk\n",
      " Incomplete Info ... Next Record.\n",
      " Processing... 246 | suruc\n",
      " Processing... 247 | uvinza\n",
      " Processing... 248 | nemuro\n",
      " Processing... 249 | djibo\n",
      " Processing... 250 | canutama\n",
      " Processing... 251 | alice springs\n",
      " Processing... 252 | necochea\n",
      " Processing... 253 | bilibino\n",
      " Processing... 254 | tiksi\n",
      " Processing... 255 | coihaique\n",
      " Processing... 256 | popondetta\n",
      " Processing... 257 | dabakala\n",
      " Processing... 258 | champerico\n",
      " Processing... 259 | shreveport\n",
      " Processing... 260 | luderitz\n",
      " Processing... 261 | kashmor\n",
      " Processing... 262 | tabriz\n",
      " Processing... 263 | esperance\n",
      " Processing... 264 | constitucion\n",
      " Processing... 265 | acapulco\n",
      " Processing... 266 | norman wells\n",
      " Incomplete Info ... Next Record.\n",
      " Processing... 268 | mahibadhoo\n",
      " Processing... 269 | kilinochchi\n",
      " Incomplete Info ... Next Record.\n"
     ]
    },
    {
     "name": "stdout",
     "output_type": "stream",
     "text": [
      " Processing... 271 | dongsheng\n",
      " Processing... 272 | lorengau\n",
      " Processing... 273 | belaya gora\n",
      " Processing... 274 | jumla\n",
      " Processing... 275 | akyab\n",
      " Processing... 276 | zhigansk\n",
      " Processing... 277 | mahebourg\n",
      " Processing... 278 | bandarbeyla\n",
      " Processing... 279 | manzil salim\n",
      " Processing... 280 | save\n",
      " Processing... 281 | ponta delgada\n",
      " Processing... 282 | aswan\n",
      " Processing... 283 | reconquista\n",
      " Incomplete Info ... Next Record.\n",
      " Processing... 285 | karasburg\n",
      " Processing... 286 | sakakah\n",
      " Processing... 287 | srandakan\n",
      " Processing... 288 | bathsheba\n",
      " Processing... 289 | saint george\n",
      " Processing... 290 | nyuksenitsa\n",
      " Processing... 291 | luebo\n",
      " Processing... 292 | brae\n",
      " Processing... 293 | banda aceh\n",
      " Processing... 294 | bethel\n",
      " Processing... 295 | ostrovnoy\n",
      " Processing... 296 | dikson\n",
      " Processing... 297 | san policarpo\n",
      " Processing... 298 | port harcourt\n",
      " Processing... 299 | katsuura\n",
      " Processing... 300 | novikovo\n",
      " Processing... 301 | kuliyapitiya\n",
      " Processing... 302 | tanabe\n",
      " Processing... 303 | tanga\n",
      " Processing... 304 | iquique\n",
      " Processing... 305 | atar\n",
      " Processing... 306 | anacortes\n",
      " Incomplete Info ... Next Record.\n",
      " Processing... 308 | key largo\n",
      " Processing... 309 | princeton\n",
      " Processing... 310 | burnie\n",
      " Processing... 311 | iracoubo\n",
      " Processing... 312 | mayo\n",
      " Processing... 313 | umm lajj\n",
      " Processing... 314 | torbay\n",
      " Processing... 315 | naze\n",
      " Processing... 316 | kamaishi\n",
      " Processing... 317 | mweka\n",
      " Processing... 318 | milkovo\n",
      " Processing... 319 | tilichiki\n",
      " Incomplete Info ... Next Record.\n",
      " Incomplete Info ... Next Record.\n",
      " Processing... 322 | ilulissat\n",
      " Processing... 323 | rio gallegos\n",
      " Processing... 324 | manga\n",
      " Processing... 325 | boa vista\n",
      " Processing... 326 | pisz\n",
      " Processing... 327 | alexandria\n",
      " Processing... 328 | matay\n",
      " Processing... 329 | pocao de pedras\n",
      " Processing... 330 | darhan\n",
      " Processing... 331 | partizansk\n",
      " Processing... 332 | junin\n",
      " Processing... 333 | vila velha\n",
      " Processing... 334 | ziyang\n",
      " Processing... 335 | kavieng\n",
      " Processing... 336 | sao filipe\n",
      " Processing... 337 | byron bay\n",
      " Processing... 338 | massakory\n",
      " Processing... 339 | chapais\n",
      " Processing... 340 | treinta y tres\n",
      " Processing... 341 | guadalupe y calvo\n",
      " Processing... 342 | bauru\n",
      " Processing... 343 | lavrentiya\n",
      " Processing... 344 | naica\n",
      " Processing... 345 | zhangye\n",
      " Processing... 346 | talcahuano\n",
      " Processing... 347 | oxelosund\n",
      " Processing... 348 | havelock\n",
      " Processing... 349 | weyburn\n",
      " Processing... 350 | saint-augustin\n",
      " Processing... 351 | aktash\n",
      " Processing... 352 | sivas\n",
      " Processing... 353 | mudkhed\n",
      " Processing... 354 | longyearbyen\n",
      " Processing... 355 | gerash\n",
      " Processing... 356 | ixtapa\n",
      " Incomplete Info ... Next Record.\n",
      " Processing... 358 | hohhot\n",
      " Processing... 359 | ayacucho\n",
      " Processing... 360 | aleksandrovskiy zavod\n",
      " Incomplete Info ... Next Record.\n",
      " Incomplete Info ... Next Record.\n",
      " Processing... 363 | skara\n",
      " Incomplete Info ... Next Record.\n",
      " Processing... 365 | jianhu\n",
      " Processing... 366 | sid\n",
      " Processing... 367 | xining\n",
      " Processing... 368 | ketchikan\n",
      " Processing... 369 | kloulklubed\n",
      " Processing... 370 | hambantota\n",
      " Processing... 371 | andenes\n",
      " Processing... 372 | tura\n",
      " Processing... 373 | pringsewu\n",
      " Processing... 374 | ullapool\n",
      " Processing... 375 | egvekinot\n",
      " Processing... 376 | lazaro cardenas\n",
      " Processing... 377 | agadez\n",
      " Processing... 378 | husavik\n",
      " Processing... 379 | taoudenni\n",
      " Processing... 380 | puerto carreno\n",
      " Processing... 381 | naryan-mar\n",
      " Incomplete Info ... Next Record.\n",
      " Processing... 383 | camacha\n",
      " Incomplete Info ... Next Record.\n",
      " Processing... 385 | hammerfest\n",
      " Processing... 386 | laerdalsoyri\n",
      " Incomplete Info ... Next Record.\n",
      " Processing... 388 | marzuq\n",
      " Processing... 389 | miri\n",
      " Processing... 390 | wanning\n",
      " Processing... 391 | aripuana\n",
      " Processing... 392 | la ronge\n",
      " Incomplete Info ... Next Record.\n",
      " Processing... 394 | pogranichnyy\n",
      " Processing... 395 | waipawa\n",
      " Processing... 396 | uthal\n",
      " Processing... 397 | pacific grove\n",
      " Processing... 398 | touba\n",
      " Processing... 399 | cayenne\n",
      " Processing... 400 | pitimbu\n",
      " Processing... 401 | lagoa\n",
      " Processing... 402 | ancud\n",
      " Processing... 403 | kizilskoye\n",
      " Processing... 404 | amalapuram\n",
      " Processing... 405 | krasnyy chikoy\n",
      " Processing... 406 | abu samrah\n",
      " Processing... 407 | umm kaddadah\n",
      " Processing... 408 | dauphin\n",
      " Processing... 409 | ballina\n",
      " Processing... 410 | wasilla\n",
      " Processing... 411 | omboue\n",
      " Incomplete Info ... Next Record.\n",
      " Processing... 413 | mikuni\n",
      " Processing... 414 | tocopilla\n",
      " Processing... 415 | itoman\n",
      " Processing... 416 | the pas\n",
      " Processing... 417 | teahupoo\n",
      " Processing... 418 | yar-sale\n",
      " Processing... 419 | channel-port aux basques\n",
      " Processing... 420 | macusani\n",
      " Processing... 421 | abha\n",
      " Processing... 422 | evora\n",
      " Processing... 423 | fort frances\n",
      " Processing... 424 | huilong\n",
      " Processing... 425 | tiznit\n",
      " Processing... 426 | kaeo\n",
      " Processing... 427 | dubbo\n",
      " Processing... 428 | gavrilov posad\n",
      " Processing... 429 | nadterechnoye\n",
      " Processing... 430 | tessalit\n",
      " Processing... 431 | cairns\n",
      " Processing... 432 | wahpeton\n",
      " Processing... 433 | kalmar\n",
      " Processing... 434 | aykhal\n",
      " Processing... 435 | clyde river\n",
      " Incomplete Info ... Next Record.\n",
      " Processing... 437 | rio grande\n",
      " Processing... 438 | kuytun\n",
      " Processing... 439 | yelizovo\n",
      " Processing... 440 | kudahuvadhoo\n",
      " Processing... 441 | atasu\n",
      " Processing... 442 | florence\n",
      " Processing... 443 | langsa\n",
      " Processing... 444 | rio branco\n",
      " Processing... 445 | oneonta\n",
      " Processing... 446 | portland\n",
      " Processing... 447 | palmer\n",
      " Processing... 448 | port augusta\n",
      " Processing... 449 | otradnoye\n",
      " Incomplete Info ... Next Record.\n",
      " Processing... 451 | hashimoto\n",
      " Processing... 452 | viedma\n",
      " Processing... 453 | zeya\n",
      " Incomplete Info ... Next Record.\n",
      " Processing... 455 | te anau\n",
      " Processing... 456 | kerchevskiy\n",
      " Incomplete Info ... Next Record.\n",
      " Processing... 458 | haines junction\n",
      " Processing... 459 | oranjemund\n",
      " Incomplete Info ... Next Record.\n",
      " Incomplete Info ... Next Record.\n",
      " Processing... 462 | ankazobe\n",
      " Processing... 463 | lewistown\n",
      " Processing... 464 | beira\n",
      " Processing... 465 | balkanabat\n",
      " Processing... 466 | krasnoselkup\n",
      " Processing... 467 | nantucket\n",
      " Processing... 468 | loandjili\n",
      " Processing... 469 | baherden\n",
      " Processing... 470 | coquimbo\n",
      " Processing... 471 | erzin\n",
      " Processing... 472 | seydi\n",
      " Processing... 473 | lotoshino\n",
      " Processing... 474 | presidencia roque saenz pena\n",
      " Processing... 475 | belmonte\n",
      " Processing... 476 | truro\n",
      " Processing... 477 | yuanli\n",
      " Processing... 478 | alexander city\n",
      " Processing... 479 | kieta\n",
      " Processing... 480 | port lincoln\n",
      " Processing... 481 | korla\n",
      " Processing... 482 | dingle\n",
      " Incomplete Info ... Next Record.\n",
      " Processing... 484 | laguna\n",
      " Processing... 485 | tyret pervaya\n",
      " Processing... 486 | dengzhou\n",
      " Processing... 487 | eastbourne\n",
      " Processing... 488 | tahta\n",
      " Processing... 489 | kununurra\n",
      " Processing... 490 | poum\n",
      " Processing... 491 | acapetahua\n",
      " Incomplete Info ... Next Record.\n",
      " Processing... 493 | jackson\n",
      " Processing... 494 | eureka\n",
      " Processing... 495 | babushkin\n",
      " Incomplete Info ... Next Record.\n",
      " Processing... 497 | broome\n",
      " Incomplete Info ... Next Record.\n",
      " Processing... 499 | bermeo\n",
      " Processing... 500 | bonthe\n",
      " Processing... 501 | schweinfurt\n",
      " Processing... 502 | harrisburg\n",
      " Processing... 503 | samarai\n",
      " Processing... 504 | isangel\n",
      " Processing... 505 | wajima\n",
      " Processing... 506 | sao raimundo nonato\n",
      " Processing... 507 | yeppoon\n",
      " Processing... 508 | balclutha\n",
      " Processing... 509 | kingston\n",
      " Processing... 510 | nishihara\n",
      " Processing... 511 | shanting\n",
      " Processing... 512 | sept-iles\n",
      " Processing... 513 | north bend\n",
      " Incomplete Info ... Next Record.\n",
      " Processing... 515 | inhambane\n",
      " Processing... 516 | medina del campo\n",
      " Processing... 517 | tafalla\n",
      " Processing... 518 | manzhouli\n",
      " Processing... 519 | wegrow\n",
      " Processing... 520 | kita\n",
      " Processing... 521 | montepuez\n",
      " Processing... 522 | hami\n",
      " Processing... 523 | severo-yeniseyskiy\n",
      " Processing... 524 | progreso\n",
      " Processing... 525 | contamana\n",
      " Processing... 526 | kousseri\n",
      " Processing... 527 | bogorodskoye\n",
      " Processing... 528 | manta\n",
      " Processing... 529 | kiruna\n",
      " Processing... 530 | mehamn\n",
      " Processing... 531 | rapid valley\n",
      " Processing... 532 | ko samui\n",
      " Processing... 533 | mezen\n",
      " Processing... 534 | venice\n",
      " Incomplete Info ... Next Record.\n",
      " Processing... 536 | olafsvik\n",
      " Processing... 537 | carlos chagas\n",
      " Processing... 538 | natal\n"
     ]
    },
    {
     "name": "stdout",
     "output_type": "stream",
     "text": [
      " Processing... 539 | biak\n",
      " Processing... 540 | netphen\n",
      " Processing... 541 | shieli\n",
      " Processing... 542 | bathurst\n",
      " Processing... 543 | weinan\n",
      " Processing... 544 | bam\n",
      " Processing... 545 | mirnyy\n",
      " Processing... 546 | santiago\n",
      " Incomplete Info ... Next Record.\n",
      " Processing... 548 | srednekolymsk\n",
      " Processing... 549 | cabedelo\n",
      " Processing... 550 | elliot lake\n",
      " Processing... 551 | barra patuca\n",
      " Processing... 552 | maragogi\n",
      " Processing... 553 | lata\n",
      " Processing... 554 | ikalamavony\n",
      " Incomplete Info ... Next Record.\n",
      " Processing... 556 | ballarat\n",
      " Processing... 557 | panlaitan\n",
      " Processing... 558 | presidente medici\n",
      " Incomplete Info ... Next Record.\n",
      " Processing... 560 | blackpool\n",
      " Processing... 561 | veracruz\n",
      " Processing... 562 | kirkwall\n",
      " Processing... 563 | sistranda\n",
      " Processing... 564 | baneh\n",
      " Processing... 565 | cortez\n",
      " Processing... 566 | catamayo\n",
      " Processing... 567 | muros\n",
      " Processing... 568 | porto walter\n",
      " Processing... 569 | storforshei\n",
      " Processing... 570 | calderitas\n",
      " Processing... 571 | rovaniemi\n",
      " Processing... 572 | matveyevka\n",
      " Processing... 573 | ramgarh\n",
      " Processing... 574 | grindavik\n",
      " Processing... 575 | vostok\n",
      " Processing... 576 | pionerskiy\n",
      " Processing... 577 | rantepao\n",
      " Processing... 578 | bubaque\n",
      " Processing... 579 | meulaboh\n",
      " Processing... 580 | sur\n",
      " Processing... 581 | keelung\n",
      " Processing... 582 | havre-saint-pierre\n",
      " Processing... 583 | ust-ishim\n",
      " Processing... 584 | priiskovyy\n",
      " Processing... 585 | aginskoye\n",
      " Processing... 586 | pandan\n",
      " Processing... 587 | hit\n",
      " Processing... 588 | ler\n",
      " Processing... 589 | luan\n",
      " Processing... 590 | amapa\n",
      " Processing... 591 | kapoeta\n",
      " Incomplete Info ... Next Record.\n",
      " Processing... 593 | susehri\n"
     ]
    }
   ],
   "source": [
    "#lists to hold data needed for plots\n",
    "city_name = []\n",
    "country = []\n",
    "lon = []\n",
    "lat = []\n",
    "temp = []\n",
    "max_temp = []\n",
    "humidity = []\n",
    "clouds = []\n",
    "wind = []\n",
    "\n",
    "# set up retrieval of data from json\n",
    "#i nclude a print log of each city as it'sbeing processed (with the city number and city name).\n",
    " \n",
    "city_number = 1\n",
    "\n",
    "for city in cities:\n",
    "    \n",
    "    final_url = query_url + city\n",
    "#         \n",
    "    response = requests.get(final_url).json()\n",
    "                            \n",
    "    try: \n",
    "        \n",
    "# #       \n",
    "        city_name.append(response['name'])\n",
    "        country.append(response['sys']['country'])\n",
    "        lon.append(response['coord']['lon'])\n",
    "        lat.append(response['coord']['lat'])\n",
    "        temp.append(response['main']['temp'])\n",
    "        max_temp.append(response['main']['temp_max'])\n",
    "        humidity.append(response['main']['humidity'])\n",
    "        clouds.append(response['clouds']['all'])\n",
    "        wind.append(response['wind']['speed'])\n",
    "        \n",
    "        print(f\" Processing... {city_number} | {city}\")        \n",
    "        city_number = city_number + 1\n",
    "                            \n",
    "    except:\n",
    "        \n",
    "# #         print(f\" Processing... {city_number} | {city}\")\n",
    "         print(f\" Incomplete Info ... Next Record.\")\n",
    "         city_number += 1 \n",
    "\n",
    "#         print(response)\n"
   ]
  },
  {
   "cell_type": "code",
   "execution_count": null,
   "metadata": {},
   "outputs": [],
   "source": [
    "# print(city_name)"
   ]
  },
  {
   "cell_type": "markdown",
   "metadata": {},
   "source": [
    "### Convert Raw Data to DataFrame\n",
    "* Export the city data into a .csv.\n",
    "* Display the DataFrame"
   ]
  },
  {
   "cell_type": "code",
   "execution_count": 39,
   "metadata": {},
   "outputs": [
    {
     "data": {
      "text/html": [
       "<div>\n",
       "<style scoped>\n",
       "    .dataframe tbody tr th:only-of-type {\n",
       "        vertical-align: middle;\n",
       "    }\n",
       "\n",
       "    .dataframe tbody tr th {\n",
       "        vertical-align: top;\n",
       "    }\n",
       "\n",
       "    .dataframe thead th {\n",
       "        text-align: right;\n",
       "    }\n",
       "</style>\n",
       "<table border=\"1\" class=\"dataframe\">\n",
       "  <thead>\n",
       "    <tr style=\"text-align: right;\">\n",
       "      <th></th>\n",
       "      <th>City</th>\n",
       "      <th>Country</th>\n",
       "      <th>Latitude</th>\n",
       "      <th>Longitude</th>\n",
       "      <th>Temperature</th>\n",
       "      <th>Max Temperature</th>\n",
       "      <th>Humidity</th>\n",
       "      <th>Clouds</th>\n",
       "      <th>Wind</th>\n",
       "    </tr>\n",
       "  </thead>\n",
       "  <tbody>\n",
       "    <tr>\n",
       "      <th>0</th>\n",
       "      <td>Mar del Plata</td>\n",
       "      <td>AR</td>\n",
       "      <td>-38.0023</td>\n",
       "      <td>-57.5575</td>\n",
       "      <td>48.22</td>\n",
       "      <td>48.22</td>\n",
       "      <td>53</td>\n",
       "      <td>0</td>\n",
       "      <td>4.61</td>\n",
       "    </tr>\n",
       "    <tr>\n",
       "      <th>1</th>\n",
       "      <td>Albany</td>\n",
       "      <td>US</td>\n",
       "      <td>42.6001</td>\n",
       "      <td>-73.9662</td>\n",
       "      <td>81.10</td>\n",
       "      <td>84.67</td>\n",
       "      <td>71</td>\n",
       "      <td>81</td>\n",
       "      <td>1.01</td>\n",
       "    </tr>\n",
       "    <tr>\n",
       "      <th>2</th>\n",
       "      <td>Thinadhoo</td>\n",
       "      <td>MV</td>\n",
       "      <td>0.5333</td>\n",
       "      <td>72.9333</td>\n",
       "      <td>81.54</td>\n",
       "      <td>81.54</td>\n",
       "      <td>74</td>\n",
       "      <td>70</td>\n",
       "      <td>5.53</td>\n",
       "    </tr>\n",
       "    <tr>\n",
       "      <th>3</th>\n",
       "      <td>Hasaki</td>\n",
       "      <td>JP</td>\n",
       "      <td>35.7333</td>\n",
       "      <td>140.8333</td>\n",
       "      <td>75.60</td>\n",
       "      <td>75.60</td>\n",
       "      <td>82</td>\n",
       "      <td>85</td>\n",
       "      <td>7.27</td>\n",
       "    </tr>\n",
       "    <tr>\n",
       "      <th>4</th>\n",
       "      <td>Mataura</td>\n",
       "      <td>NZ</td>\n",
       "      <td>-46.1927</td>\n",
       "      <td>168.8643</td>\n",
       "      <td>43.48</td>\n",
       "      <td>43.48</td>\n",
       "      <td>97</td>\n",
       "      <td>19</td>\n",
       "      <td>3.09</td>\n",
       "    </tr>\n",
       "  </tbody>\n",
       "</table>\n",
       "</div>"
      ],
      "text/plain": [
       "            City Country  Latitude  Longitude  Temperature  Max Temperature  \\\n",
       "0  Mar del Plata      AR  -38.0023   -57.5575        48.22            48.22   \n",
       "1         Albany      US   42.6001   -73.9662        81.10            84.67   \n",
       "2      Thinadhoo      MV    0.5333    72.9333        81.54            81.54   \n",
       "3         Hasaki      JP   35.7333   140.8333        75.60            75.60   \n",
       "4        Mataura      NZ  -46.1927   168.8643        43.48            43.48   \n",
       "\n",
       "   Humidity  Clouds  Wind  \n",
       "0        53       0  4.61  \n",
       "1        71      81  1.01  \n",
       "2        74      70  5.53  \n",
       "3        82      85  7.27  \n",
       "4        97      19  3.09  "
      ]
     },
     "execution_count": 39,
     "metadata": {},
     "output_type": "execute_result"
    }
   ],
   "source": [
    "city_weather_df = pd.DataFrame({\n",
    "                                \"City\": city_name,\n",
    "                                \"Country\": country,\n",
    "                                \"Latitude\": lat,\n",
    "                                \"Longitude\": lon,\n",
    "                                \"Temperature\": temp,\n",
    "                                \"Max Temperature\": max_temp,\n",
    "                                \"Humidity\": humidity,\n",
    "                                \"Clouds\": clouds,\n",
    "                                \"Wind\": wind\n",
    "                                \n",
    "                                })\n",
    "\n",
    "# city_weather_df\n",
    "\n",
    "city_weather_df.to_csv(\"city_weather.csv\",index = False)\n",
    "city_weather_df.head()\n"
   ]
  },
  {
   "cell_type": "markdown",
   "metadata": {},
   "source": [
    "## Inspect the data and remove the cities where the humidity > 100%.\n",
    "----\n",
    "Skip this step if there are no cities that have humidity > 100%. "
   ]
  },
  {
   "cell_type": "code",
   "execution_count": 8,
   "metadata": {},
   "outputs": [
    {
     "data": {
      "text/html": [
       "<div>\n",
       "<style scoped>\n",
       "    .dataframe tbody tr th:only-of-type {\n",
       "        vertical-align: middle;\n",
       "    }\n",
       "\n",
       "    .dataframe tbody tr th {\n",
       "        vertical-align: top;\n",
       "    }\n",
       "\n",
       "    .dataframe thead th {\n",
       "        text-align: right;\n",
       "    }\n",
       "</style>\n",
       "<table border=\"1\" class=\"dataframe\">\n",
       "  <thead>\n",
       "    <tr style=\"text-align: right;\">\n",
       "      <th></th>\n",
       "      <th>City</th>\n",
       "      <th>Country</th>\n",
       "      <th>Latitude</th>\n",
       "      <th>Longitude</th>\n",
       "      <th>Temperature</th>\n",
       "      <th>Max Temperature</th>\n",
       "      <th>Humidity</th>\n",
       "      <th>Clouds</th>\n",
       "      <th>Wind</th>\n",
       "    </tr>\n",
       "  </thead>\n",
       "  <tbody>\n",
       "  </tbody>\n",
       "</table>\n",
       "</div>"
      ],
      "text/plain": [
       "Empty DataFrame\n",
       "Columns: [City, Country, Latitude, Longitude, Temperature, Max Temperature, Humidity, Clouds, Wind]\n",
       "Index: []"
      ]
     },
     "execution_count": 8,
     "metadata": {},
     "output_type": "execute_result"
    }
   ],
   "source": [
    "humidity_over_hundred = city_weather_df.loc[city_weather_df[\"Humidity\"]>100]\n",
    "humidity_over_hundred\n"
   ]
  },
  {
   "cell_type": "code",
   "execution_count": 9,
   "metadata": {},
   "outputs": [],
   "source": [
    "#  Get the indices of cities that have humidity over 100%.\n",
    "\n",
    "\n",
    "# Null   skip step \n"
   ]
  },
  {
   "cell_type": "code",
   "execution_count": 10,
   "metadata": {},
   "outputs": [],
   "source": [
    "# Make a new DataFrame equal to the city data to drop all humidity outliers by index.\n",
    "# Passing \"inplace=False\" will make a copy of the city_data DataFrame, which we call \"clean_city_data\".\n"
   ]
  },
  {
   "cell_type": "markdown",
   "metadata": {},
   "source": [
    "## Plotting the Data\n",
    "* Use proper labeling of the plots using plot titles (including date of analysis) and axes labels.\n",
    "* Save the plotted figures as .pngs."
   ]
  },
  {
   "cell_type": "markdown",
   "metadata": {},
   "source": [
    "## Latitude vs. Temperature Plot"
   ]
  },
  {
   "cell_type": "code",
   "execution_count": 11,
   "metadata": {},
   "outputs": [
    {
     "data": {
      "image/png": "[encoded data removed]",
      "text/plain": [
       "<Figure size 432x288 with 1 Axes>"
      ]
     },
     "metadata": {
      "needs_background": "light"
     },
     "output_type": "display_data"
    }
   ],
   "source": [
    "#Activity 2-5\n",
    "\n",
    "plt.scatter(city_weather_df[\"Latitude\"], city_weather_df[\"Temperature\"])\n",
    "\n",
    "plt.title(\"Latitude vs Temperature\")\n",
    "plt.xlabel(\"Latitude\")\n",
    "plt.ylabel(\"Temperature(F)\")\n",
    "plt.grid(True)\n",
    "#save the figure\n",
    "plt.savefig(\"Latitude vs Temp.png\")\n",
    "plt.show()\n"
   ]
  },
  {
   "cell_type": "code",
   "execution_count": 12,
   "metadata": {
    "scrolled": true
   },
   "outputs": [],
   "source": [
    "# This plot shows that the higher temperatures are grouped near -10 to 40 degrees from the Equator (Latitude = 0 degrees).\n",
    "# Whereas the cooler temperatures occur further away from the Equator.  "
   ]
  },
  {
   "cell_type": "markdown",
   "metadata": {},
   "source": [
    "## Latitude vs. Humidity Plot"
   ]
  },
  {
   "cell_type": "code",
   "execution_count": 13,
   "metadata": {},
   "outputs": [
    {
     "data": {
      "image/png": "[encoded data removed]",
      "text/plain": [
       "<Figure size 432x288 with 1 Axes>"
      ]
     },
     "metadata": {
      "needs_background": "light"
     },
     "output_type": "display_data"
    }
   ],
   "source": [
    "plt.scatter(city_weather_df[\"Latitude\"], city_weather_df[\"Humidity\"])\n",
    "\n",
    "plt.title(\"Latitude vs Humidity\")\n",
    "plt.xlabel(\"Latitude\")\n",
    "plt.ylabel(\"Humidity\")\n",
    "plt.grid(True)\n",
    "#save the figure\n",
    "plt.savefig(\"Latitude vs Humidity.png\")\n",
    "plt.show()\n"
   ]
  },
  {
   "cell_type": "code",
   "execution_count": 14,
   "metadata": {},
   "outputs": [],
   "source": [
    "# Although the range of humidity(%) seems to be evenly distributed throughout both hemispheres, the northern latitudes\n",
    "# have more occurences of high humidity. \n"
   ]
  },
  {
   "cell_type": "markdown",
   "metadata": {},
   "source": [
    "## Latitude vs. Cloudiness Plot"
   ]
  },
  {
   "cell_type": "code",
   "execution_count": 15,
   "metadata": {},
   "outputs": [
    {
     "data": {
      "image/png": "[encoded data removed]",
      "text/plain": [
       "<Figure size 432x288 with 1 Axes>"
      ]
     },
     "metadata": {
      "needs_background": "light"
     },
     "output_type": "display_data"
    }
   ],
   "source": [
    "plt.scatter(city_weather_df[\"Latitude\"], city_weather_df[\"Clouds\"])\n",
    "\n",
    "plt.title(\"Latitude vs Cloudiness\")\n",
    "plt.xlabel(\"Latitude\")\n",
    "plt.ylabel(\"Clouds\")\n",
    "plt.grid(True)\n",
    "#save the figure\n",
    "plt.savefig(\"Latitude vs Cloudiness.png\")\n",
    "plt.show()\n"
   ]
  },
  {
   "cell_type": "code",
   "execution_count": 16,
   "metadata": {},
   "outputs": [],
   "source": [
    "# The highest frequency of cloudiness occurs in the northern hemisphere. "
   ]
  },
  {
   "cell_type": "markdown",
   "metadata": {},
   "source": [
    "## Latitude vs. Wind Speed Plot"
   ]
  },
  {
   "cell_type": "code",
   "execution_count": 17,
   "metadata": {},
   "outputs": [
    {
     "data": {
      "image/png": "[encoded data removed]",
      "text/plain": [
       "<Figure size 432x288 with 1 Axes>"
      ]
     },
     "metadata": {
      "needs_background": "light"
     },
     "output_type": "display_data"
    }
   ],
   "source": [
    "plt.scatter(city_weather_df[\"Latitude\"], city_weather_df[\"Wind\"])\n",
    "\n",
    "plt.title(\"Latitude vs Wind\")\n",
    "plt.xlabel(\"Latitude\")\n",
    "plt.ylabel(\"Wind\")\n",
    "plt.grid(True)\n",
    "#save the figure\n",
    "plt.savefig(\"Latitude vs Wind Speed.png\")\n",
    "plt.show()\n"
   ]
  },
  {
   "cell_type": "code",
   "execution_count": 18,
   "metadata": {},
   "outputs": [],
   "source": [
    "# Wind speeds are similar across the middle latitudes while the extreme regions +- 75 degrees latitude, except\n",
    "# for a few instances, seem to have low occurrences of high winds. "
   ]
  },
  {
   "cell_type": "markdown",
   "metadata": {},
   "source": [
    "## Linear Regression"
   ]
  },
  {
   "cell_type": "code",
   "execution_count": 19,
   "metadata": {},
   "outputs": [],
   "source": [
    "# activity 2-7\n",
    "\n",
    "# # Perform a linear regression on temperature vs. latitude\n",
    "# (slope, intercept, rvalue, pvalue, stderr) = stats.linregress(x_values, y_values)\n",
    "\n",
    "# # Get regression values\n",
    "# regress_values = x_values * slope + intercept\n",
    "# print(regress_values)\n",
    "\n"
   ]
  },
  {
   "cell_type": "code",
   "execution_count": 20,
   "metadata": {},
   "outputs": [
    {
     "data": {
      "text/plain": [
       "<function matplotlib.pyplot.show(*args, **kw)>"
      ]
     },
     "execution_count": 20,
     "metadata": {},
     "output_type": "execute_result"
    },
    {
     "data": {
      "image/png": "[encoded data removed]",
      "text/plain": [
       "<Figure size 432x288 with 1 Axes>"
      ]
     },
     "metadata": {
      "needs_background": "light"
     },
     "output_type": "display_data"
    }
   ],
   "source": [
    "#matplotlib 3-8 and 3-9\n",
    "\n",
    "x_values = city_weather_df[\"Temperature\"]\n",
    "y_values = city_weather_df[\"Latitude\"]\n",
    "\n",
    "(slope, intercept, rvalue, pvalue, stderr) = linregress(x_values, y_values)\n",
    "regress_values = x_values * slope + intercept\n",
    "line_eq = \"y =\" + str(round(slope,2)) + \"x +\" + str(round(intercept,2))\n",
    "plt.scatter(x_values, y_values)\n",
    "plt.plot(x_values,regress_values,\"r-\")\n",
    "plt.annotate(line_eq,(6,10), fontsize=15, color=\"red\")\n",
    "plt.xlabel(\"Temperature\")\n",
    "plt.ylabel(\"Latitude\")\n",
    "plt.show\n"
   ]
  },
  {
   "cell_type": "code",
   "execution_count": 21,
   "metadata": {},
   "outputs": [
    {
     "ename": "SyntaxError",
     "evalue": "invalid syntax (<ipython-input-21-0f3f3370ee58>, line 1)",
     "output_type": "error",
     "traceback": [
      "\u001b[1;36m  File \u001b[1;32m\"<ipython-input-21-0f3f3370ee58>\"\u001b[1;36m, line \u001b[1;32m1\u001b[0m\n\u001b[1;33m    Temps evenly distributed throughout latitudes (90)to(-90). No Correlation noted\u001b[0m\n\u001b[1;37m               ^\u001b[0m\n\u001b[1;31mSyntaxError\u001b[0m\u001b[1;31m:\u001b[0m invalid syntax\n"
     ]
    }
   ],
   "source": [
    "Temps evenly distributed throughout latitudes (90)to(-90). No Correlation noted"
   ]
  },
  {
   "cell_type": "code",
   "execution_count": 22,
   "metadata": {},
   "outputs": [],
   "source": [
    "#Split DF into Northern and Southern Hemi\n",
    "\n",
    "north_hemi = city_weather_df.loc[city_weather_df[\"Latitude\"] >= 0]\n",
    "south_hemi = city_weather_df.loc[city_weather_df[\"Latitude\"] < 0]\n",
    "\n",
    "# south_hemi.head()\n",
    "# north_hemi.head()"
   ]
  },
  {
   "cell_type": "markdown",
   "metadata": {},
   "source": [
    "####  Northern Hemisphere - Max Temp vs. Latitude Linear Regression"
   ]
  },
  {
   "cell_type": "code",
   "execution_count": 23,
   "metadata": {},
   "outputs": [
    {
     "data": {
      "text/plain": [
       "<function matplotlib.pyplot.show(*args, **kw)>"
      ]
     },
     "execution_count": 23,
     "metadata": {},
     "output_type": "execute_result"
    },
    {
     "data": {
      "image/png": "[encoded data removed]",
      "text/plain": [
       "<Figure size 432x288 with 1 Axes>"
      ]
     },
     "metadata": {
      "needs_background": "light"
     },
     "output_type": "display_data"
    }
   ],
   "source": [
    "x_values = north_hemi[\"Temperature\"]\n",
    "y_values = north_hemi[\"Latitude\"]\n",
    "\n",
    "(slope, intercept, rvalue, pvalue, stderr) = linregress(x_values, y_values)\n",
    "regress_values = x_values * slope + intercept\n",
    "line_eq = \"y =\" + str(round(slope,2)) + \"x +\" + str(round(intercept,2))\n",
    "plt.scatter(x_values, y_values)\n",
    "plt.plot(x_values,regress_values,\"r-\")\n",
    "plt.annotate(line_eq,(6,10), fontsize=15, color=\"red\")\n",
    "plt.title(\"Northern Hemisphere - Max Temp vs Latitude Linear Regression\")\n",
    "plt.xlabel(\"Temperature\")\n",
    "plt.ylabel(\"Latitude\")\n",
    "plt.show\n"
   ]
  },
  {
   "cell_type": "code",
   "execution_count": 24,
   "metadata": {},
   "outputs": [],
   "source": [
    "# The temperatures increase as latitude approaches the equator (lat 0) and decreases as the latitude\n",
    "# approaches the North Pole (lat 90) "
   ]
  },
  {
   "cell_type": "markdown",
   "metadata": {},
   "source": [
    "####  Southern Hemisphere - Max Temp vs. Latitude Linear Regression"
   ]
  },
  {
   "cell_type": "code",
   "execution_count": 25,
   "metadata": {},
   "outputs": [
    {
     "data": {
      "text/plain": [
       "<function matplotlib.pyplot.show(*args, **kw)>"
      ]
     },
     "execution_count": 25,
     "metadata": {},
     "output_type": "execute_result"
    },
    {
     "data": {
      "image/png": "[encoded data removed]",
      "text/plain": [
       "<Figure size 432x288 with 1 Axes>"
      ]
     },
     "metadata": {
      "needs_background": "light"
     },
     "output_type": "display_data"
    }
   ],
   "source": [
    "x_values = south_hemi[\"Temperature\"]\n",
    "y_values = south_hemi[\"Latitude\"]\n",
    "\n",
    "(slope, intercept, rvalue, pvalue, stderr) = linregress(x_values, y_values)\n",
    "regress_values = x_values * slope + intercept\n",
    "line_eq = \"y =\" + str(round(slope,2)) + \"x +\" + str(round(intercept,2))\n",
    "plt.scatter(x_values, y_values)\n",
    "plt.plot(x_values,regress_values,\"r-\")\n",
    "plt.annotate(line_eq,(6,10), fontsize=15, color=\"red\")\n",
    "plt.title(\"Southern Hemisphere - Max Temp vs Latitude Linear Regression\")\n",
    "plt.xlabel(\"Temperature\")\n",
    "plt.ylabel(\"Latitude\")\n",
    "plt.show\n"
   ]
  },
  {
   "cell_type": "code",
   "execution_count": 26,
   "metadata": {},
   "outputs": [],
   "source": [
    "# The temperatures increase as latitude approaches the equator (lat 0) and decreases as the latitude\n",
    "# approaches the South Pole (lat -90) "
   ]
  },
  {
   "cell_type": "markdown",
   "metadata": {},
   "source": [
    "####  Northern Hemisphere - Humidity (%) vs. Latitude Linear Regression"
   ]
  },
  {
   "cell_type": "code",
   "execution_count": 27,
   "metadata": {},
   "outputs": [
    {
     "data": {
      "text/plain": [
       "<function matplotlib.pyplot.show(*args, **kw)>"
      ]
     },
     "execution_count": 27,
     "metadata": {},
     "output_type": "execute_result"
    },
    {
     "data": {
      "image/png": "[encoded data removed]",
      "text/plain": [
       "<Figure size 432x288 with 1 Axes>"
      ]
     },
     "metadata": {
      "needs_background": "light"
     },
     "output_type": "display_data"
    }
   ],
   "source": [
    "x_values = north_hemi[\"Humidity\"]\n",
    "y_values = north_hemi[\"Latitude\"]\n",
    "\n",
    "(slope, intercept, rvalue, pvalue, stderr) = linregress(x_values, y_values)\n",
    "regress_values = x_values * slope + intercept\n",
    "line_eq = \"y =\" + str(round(slope,2)) + \"x +\" + str(round(intercept,2))\n",
    "plt.scatter(x_values, y_values)\n",
    "plt.plot(x_values,regress_values,\"r-\")\n",
    "plt.annotate(line_eq,(6,10), fontsize=15, color=\"red\")\n",
    "plt.title(\"Northern Hemisphere - Humidity vs Latitude Linear Regression\")\n",
    "plt.xlabel(\"Humidity\")\n",
    "plt.ylabel(\"Latitude\")\n",
    "plt.show\n"
   ]
  },
  {
   "cell_type": "code",
   "execution_count": 28,
   "metadata": {},
   "outputs": [],
   "source": [
    "# Humidity levels in the Northern Hemisphere are evenly distributed throughout. No correlation noted.  "
   ]
  },
  {
   "cell_type": "markdown",
   "metadata": {},
   "source": [
    "####  Southern Hemisphere - Humidity (%) vs. Latitude Linear Regression"
   ]
  },
  {
   "cell_type": "code",
   "execution_count": 29,
   "metadata": {},
   "outputs": [
    {
     "data": {
      "text/plain": [
       "<function matplotlib.pyplot.show(*args, **kw)>"
      ]
     },
     "execution_count": 29,
     "metadata": {},
     "output_type": "execute_result"
    },
    {
     "data": {
      "image/png": "[encoded data removed]",
      "text/plain": [
       "<Figure size 432x288 with 1 Axes>"
      ]
     },
     "metadata": {
      "needs_background": "light"
     },
     "output_type": "display_data"
    }
   ],
   "source": [
    "x_values = south_hemi[\"Humidity\"]\n",
    "y_values = south_hemi[\"Latitude\"]\n",
    "\n",
    "(slope, intercept, rvalue, pvalue, stderr) = linregress(x_values, y_values)\n",
    "regress_values = x_values * slope + intercept\n",
    "line_eq = \"y =\" + str(round(slope,2)) + \"x +\" + str(round(intercept,2))\n",
    "plt.scatter(x_values, y_values)\n",
    "plt.plot(x_values,regress_values,\"r-\")\n",
    "plt.annotate(line_eq,(6,10), fontsize=15, color=\"red\")\n",
    "plt.title(\"Southern Hemisphere - Humidity vs Latitude Linear Regression\")\n",
    "plt.xlabel(\"Humidity\")\n",
    "plt.ylabel(\"Latitude\")\n",
    "plt.show\n"
   ]
  },
  {
   "cell_type": "code",
   "execution_count": 30,
   "metadata": {},
   "outputs": [],
   "source": [
    "# Humidity levels in the Southern Hemisphere are evenly distributed throughout. No correlation noted. "
   ]
  },
  {
   "cell_type": "markdown",
   "metadata": {},
   "source": [
    "####  Northern Hemisphere - Cloudiness (%) vs. Latitude Linear Regression"
   ]
  },
  {
   "cell_type": "code",
   "execution_count": 31,
   "metadata": {},
   "outputs": [
    {
     "data": {
      "text/plain": [
       "<function matplotlib.pyplot.show(*args, **kw)>"
      ]
     },
     "execution_count": 31,
     "metadata": {},
     "output_type": "execute_result"
    },
    {
     "data": {
      "image/png": "[encoded data removed]",
      "text/plain": [
       "<Figure size 432x288 with 1 Axes>"
      ]
     },
     "metadata": {
      "needs_background": "light"
     },
     "output_type": "display_data"
    }
   ],
   "source": [
    "x_values = north_hemi[\"Clouds\"]\n",
    "y_values = north_hemi[\"Latitude\"]\n",
    "\n",
    "(slope, intercept, rvalue, pvalue, stderr) = linregress(x_values, y_values)\n",
    "regress_values = x_values * slope + intercept\n",
    "line_eq = \"y =\" + str(round(slope,2)) + \"x +\" + str(round(intercept,2))\n",
    "plt.scatter(x_values, y_values)\n",
    "plt.plot(x_values,regress_values,\"r-\")\n",
    "plt.annotate(line_eq,(6,10), fontsize=15, color=\"red\")\n",
    "plt.title(\"Northern Hemisphere - Cloudiness vs Latitude Linear Regression\")\n",
    "plt.xlabel(\"Cloudiness\")\n",
    "plt.ylabel(\"Latitude\")\n",
    "plt.show\n"
   ]
  },
  {
   "cell_type": "code",
   "execution_count": 32,
   "metadata": {},
   "outputs": [],
   "source": [
    "# No strong correlation noted in N. Hemisphere regarding Cloudiness and Latitude. "
   ]
  },
  {
   "cell_type": "markdown",
   "metadata": {},
   "source": [
    "####  Southern Hemisphere - Cloudiness (%) vs. Latitude Linear Regression"
   ]
  },
  {
   "cell_type": "code",
   "execution_count": 33,
   "metadata": {},
   "outputs": [
    {
     "data": {
      "text/plain": [
       "<function matplotlib.pyplot.show(*args, **kw)>"
      ]
     },
     "execution_count": 33,
     "metadata": {},
     "output_type": "execute_result"
    },
    {
     "data": {
      "image/png": "[encoded data removed]",
      "text/plain": [
       "<Figure size 432x288 with 1 Axes>"
      ]
     },
     "metadata": {
      "needs_background": "light"
     },
     "output_type": "display_data"
    }
   ],
   "source": [
    "x_values = south_hemi[\"Clouds\"]\n",
    "y_values = south_hemi[\"Latitude\"]\n",
    "\n",
    "(slope, intercept, rvalue, pvalue, stderr) = linregress(x_values, y_values)\n",
    "regress_values = x_values * slope + intercept\n",
    "line_eq = \"y =\" + str(round(slope,2)) + \"x +\" + str(round(intercept,2))\n",
    "plt.scatter(x_values, y_values)\n",
    "plt.plot(x_values,regress_values,\"r-\")\n",
    "plt.annotate(line_eq,(6,10), fontsize=15, color=\"red\")\n",
    "plt.title(\"Southern Hemisphere - Cloudiness vs Latitude Linear Regression\")\n",
    "plt.xlabel(\"Cloudiness\")\n",
    "plt.ylabel(\"Latitude\")\n",
    "plt.show\n"
   ]
  },
  {
   "cell_type": "code",
   "execution_count": 34,
   "metadata": {},
   "outputs": [],
   "source": [
    "# No strong correlation noted in S. Hemisphere regarding Cloudiness and Latitude. "
   ]
  },
  {
   "cell_type": "markdown",
   "metadata": {},
   "source": [
    "####  Northern Hemisphere - Wind Speed (mph) vs. Latitude Linear Regression"
   ]
  },
  {
   "cell_type": "code",
   "execution_count": 35,
   "metadata": {},
   "outputs": [
    {
     "data": {
      "text/plain": [
       "<function matplotlib.pyplot.show(*args, **kw)>"
      ]
     },
     "execution_count": 35,
     "metadata": {},
     "output_type": "execute_result"
    },
    {
     "data": {
      "image/png": "[encoded data removed]",
      "text/plain": [
       "<Figure size 432x288 with 1 Axes>"
      ]
     },
     "metadata": {
      "needs_background": "light"
     },
     "output_type": "display_data"
    }
   ],
   "source": [
    "x_values = north_hemi[\"Wind\"]\n",
    "y_values = north_hemi[\"Latitude\"]\n",
    "\n",
    "(slope, intercept, rvalue, pvalue, stderr) = linregress(x_values, y_values)\n",
    "regress_values = x_values * slope + intercept\n",
    "line_eq = \"y =\" + str(round(slope,2)) + \"x +\" + str(round(intercept,2))\n",
    "plt.scatter(x_values, y_values)\n",
    "plt.plot(x_values,regress_values,\"r-\")\n",
    "plt.annotate(line_eq,(6,10), fontsize=15, color=\"red\")\n",
    "plt.title(\"Northern Hemisphere - Wind vs Latitude Linear Regression\")\n",
    "plt.xlabel(\"Wind\")\n",
    "plt.ylabel(\"Latitude\")\n",
    "plt.show\n"
   ]
  },
  {
   "cell_type": "code",
   "execution_count": 36,
   "metadata": {},
   "outputs": [],
   "source": [
    "# No strong correlation noted in N. Hemisphere regarding Wind Speed and Latitude."
   ]
  },
  {
   "cell_type": "markdown",
   "metadata": {},
   "source": [
    "####  Southern Hemisphere - Wind Speed (mph) vs. Latitude Linear Regression"
   ]
  },
  {
   "cell_type": "code",
   "execution_count": 37,
   "metadata": {},
   "outputs": [
    {
     "data": {
      "text/plain": [
       "<function matplotlib.pyplot.show(*args, **kw)>"
      ]
     },
     "execution_count": 37,
     "metadata": {},
     "output_type": "execute_result"
    },
    {
     "data": {
      "image/png": "[encoded data removed]",
      "text/plain": [
       "<Figure size 432x288 with 1 Axes>"
      ]
     },
     "metadata": {
      "needs_background": "light"
     },
     "output_type": "display_data"
    }
   ],
   "source": [
    "x_values = south_hemi[\"Wind\"]\n",
    "y_values = south_hemi[\"Latitude\"]\n",
    "\n",
    "(slope, intercept, rvalue, pvalue, stderr) = linregress(x_values, y_values)\n",
    "regress_values = x_values * slope + intercept\n",
    "line_eq = \"y =\" + str(round(slope,2)) + \"x +\" + str(round(intercept,2))\n",
    "plt.scatter(x_values, y_values)\n",
    "plt.plot(x_values,regress_values,\"r-\")\n",
    "plt.annotate(line_eq,(6,10), fontsize=15, color=\"red\")\n",
    "plt.title(\"Southern Hemisphere - Wind vs Latitude Linear Regression\")\n",
    "plt.xlabel(\"Wind\")\n",
    "plt.ylabel(\"Latitude\")\n",
    "plt.show\n"
   ]
  },
  {
   "cell_type": "code",
   "execution_count": 38,
   "metadata": {},
   "outputs": [],
   "source": [
    "# No strong correlation noted in S. Hemisphere regarding Wind Speed and Latitude."
   ]
  },
  {
   "cell_type": "code",
   "execution_count": null,
   "metadata": {},
   "outputs": [],
   "source": []
  },
  {
   "cell_type": "code",
   "execution_count": null,
   "metadata": {},
   "outputs": [],
   "source": []
  },
  {
   "cell_type": "code",
   "execution_count": null,
   "metadata": {},
   "outputs": [],
   "source": []
  },
  {
   "cell_type": "code",
   "execution_count": null,
   "metadata": {},
   "outputs": [],
   "source": []
  },
  {
   "cell_type": "code",
   "execution_count": null,
   "metadata": {},
   "outputs": [],
   "source": []
  },
  {
   "cell_type": "code",
   "execution_count": null,
   "metadata": {},
   "outputs": [],
   "source": []
  },
  {
   "cell_type": "code",
   "execution_count": null,
   "metadata": {},
   "outputs": [],
   "source": []
  },
  {
   "cell_type": "code",
   "execution_count": null,
   "metadata": {},
   "outputs": [],
   "source": []
  }
 ],
 "metadata": {
  "anaconda-cloud": {},
  "kernel_info": {
   "name": "python3"
  },
  "kernelspec": {
   "display_name": "Python [conda env:PythonData] *",
   "language": "python",
   "name": "conda-env-PythonData-py"
  },
  "language_info": {
   "codemirror_mode": {
    "name": "ipython",
    "version": 3
   },
   "file_extension": ".py",
   "mimetype": "text/x-python",
   "name": "python",
   "nbconvert_exporter": "python",
   "pygments_lexer": "ipython3",
   "version": "3.6.10"
  },
  "latex_envs": {
   "LaTeX_envs_menu_present": true,
   "autoclose": false,
   "autocomplete": true,
   "bibliofile": "biblio.bib",
   "cite_by": "apalike",
   "current_citInitial": 1,
   "eqLabelWithNumbers": true,
   "eqNumInitial": 1,
   "hotkeys": {
    "equation": "Ctrl-E",
    "itemize": "Ctrl-I"
   },
   "labels_anchors": false,
   "latex_user_defs": false,
   "report_style_numbering": false,
   "user_envs_cfg": false
  },
  "nteract": {
   "version": "0.12.3"
  }
 },
 "nbformat": 4,
 "nbformat_minor": 2
}
